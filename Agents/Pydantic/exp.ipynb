{
 "cells": [
  {
   "cell_type": "code",
   "execution_count": 1,
   "metadata": {},
   "outputs": [
    {
     "name": "stdout",
     "output_type": "stream",
     "text": [
      "id=1 name='John' email='john@example.com'\n"
     ]
    }
   ],
   "source": [
    "from pydantic import BaseModel, Field\n",
    "\n",
    "class User(BaseModel):\n",
    "    id: int\n",
    "    name: str = Field(..., min_length=3, max_length=15)\n",
    "    email: str = Field(..., format=\"email\")\n",
    "user=User(id=1, name=\"John\", email=\"john@example.com\")\n",
    "print(user)\n"
   ]
  },
  {
   "cell_type": "code",
   "execution_count": 2,
   "metadata": {},
   "outputs": [
    {
     "data": {
      "text/plain": [
       "__main__.User"
      ]
     },
     "execution_count": 2,
     "metadata": {},
     "output_type": "execute_result"
    }
   ],
   "source": [
    "type(user)"
   ]
  },
  {
   "cell_type": "code",
   "execution_count": 3,
   "metadata": {},
   "outputs": [
    {
     "name": "stdout",
     "output_type": "stream",
     "text": [
      "id=1 name='John' department=None\n"
     ]
    }
   ],
   "source": [
    "from typing import Optional\n",
    "class Employee(BaseModel):\n",
    "    id: int\n",
    "    name: str\n",
    "    department: Optional[str] = None\n",
    "\n",
    "\n",
    "emp=Employee(id=1, name=\"John\")\n",
    "print(emp)"
   ]
  },
  {
   "cell_type": "code",
   "execution_count": 7,
   "metadata": {},
   "outputs": [
    {
     "name": "stdout",
     "output_type": "stream",
     "text": [
      "id=1 name='John' email='john@example.com' price=100.0\n",
      "{'properties': {'id': {'title': 'Id', 'type': 'integer'}, 'name': {'maxLength': 15, 'minLength': 3, 'title': 'Name', 'type': 'string'}, 'email': {'format': 'email', 'title': 'Email', 'type': 'string'}, 'price': {'maximum': 1000, 'minimum': 0, 'title': 'Price', 'type': 'number'}}, 'required': ['id', 'name', 'email', 'price'], 'title': 'User', 'type': 'object'}\n"
     ]
    }
   ],
   "source": [
    "from pydantic import BaseModel, Field\n",
    "\n",
    "class User(BaseModel):\n",
    "    id: int\n",
    "    name: str = Field(min_length=3, max_length=15)\n",
    "    email: str = Field(format=\"email\")\n",
    "    price: float = Field(ge=0, le=1000)\n",
    "\n",
    "user=User(id=1, name=\"John\", email=\"john@example.com\", price=100)\n",
    "print(user)\n",
    "print(User.model_json_schema())"
   ]
  },
  {
   "cell_type": "code",
   "execution_count": null,
   "metadata": {},
   "outputs": [],
   "source": []
  }
 ],
 "metadata": {
  "kernelspec": {
   "display_name": "Python 3",
   "language": "python",
   "name": "python3"
  },
  "language_info": {
   "codemirror_mode": {
    "name": "ipython",
    "version": 3
   },
   "file_extension": ".py",
   "mimetype": "text/x-python",
   "name": "python",
   "nbconvert_exporter": "python",
   "pygments_lexer": "ipython3",
   "version": "3.10.13"
  }
 },
 "nbformat": 4,
 "nbformat_minor": 2
}
