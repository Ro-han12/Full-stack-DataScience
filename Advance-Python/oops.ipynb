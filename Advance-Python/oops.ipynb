{
 "cells": [
  {
   "cell_type": "code",
   "execution_count": 1,
   "metadata": {},
   "outputs": [],
   "source": [
    "#oops helps in coding in a modular way\n",
    "#self is not a keyword its a pointer\n",
    "class car:\n",
    "    def __init__(self,body_type,engine,fuel_type):\n",
    "        self.body_type=body_type\n",
    "        self.engine=engine\n",
    "        self.fuel_type=fuel_type\n",
    "    def test(self):\n",
    "        print(\"this is my first method in car class\")\n",
    "        "
   ]
  },
  {
   "cell_type": "code",
   "execution_count": 2,
   "metadata": {},
   "outputs": [],
   "source": [
    "class list_parser:\n",
    "    def __init__(self,l):\n",
    "        self.l=l\n",
    "    def parser(self):\n",
    "        if type(self.l) == list:\n",
    "            for i in self.l:\n",
    "                print(i)\n",
    "    def reverse_list(self):\n",
    "        if type(self.l) == list:\n",
    "            return self.l[::-1]\n",
    "    "
   ]
  },
  {
   "cell_type": "code",
   "execution_count": 3,
   "metadata": {},
   "outputs": [
    {
     "name": "stdout",
     "output_type": "stream",
     "text": [
      "2\n",
      "3\n",
      "45\n",
      "6\n",
      "8\n",
      "None\n",
      "[8, 6, 45, 3, 2]\n"
     ]
    }
   ],
   "source": [
    "c=list_parser([2,3,45,6,8])\n",
    "parse=c.parser()\n",
    "print(parse)\n",
    "rev=c.reverse_list()\n",
    "print(rev)\n"
   ]
  },
  {
   "cell_type": "code",
   "execution_count": 13,
   "metadata": {},
   "outputs": [],
   "source": [
    "class dict_parsing():\n",
    "    def __init__(self, a=None):\n",
    "        if a is None:\n",
    "            a = eval(input(\"Please enter a dictionary: \"))\n",
    "        if not isinstance(a, dict):\n",
    "            raise Exception(\"Not a dictionary\")\n",
    "        self.a = a\n",
    "        print(\"Initialization successful\")\n",
    "        \n",
    "    def getkeys(self):\n",
    "        if self.notdict():\n",
    "            return list(self.a.keys())\n",
    "    def notdict():\n",
    "        if type(self.a) != dict:\n",
    "            raise Exception(self.a,'NOT A DICTIONARY')\n",
    "        return 1 \n",
    "    def userinput(self):\n",
    "        self.a=eval(input())\n",
    "        print(self.a,type(self.a))\n",
    "        print(self.getkeys)\n",
    "        print(self.getvalues())\n",
    "    def insertion(self,k,v):\n",
    "        self.a[k]=v \n",
    "        return self.a\n"
   ]
  },
  {
   "cell_type": "code",
   "execution_count": 21,
   "metadata": {},
   "outputs": [
    {
     "name": "stdout",
     "output_type": "stream",
     "text": [
      "Initialization successful\n"
     ]
    },
    {
     "data": {
      "text/plain": [
       "{'1': 'rohan', '2': 'mini', '3': 'julie'}"
      ]
     },
     "execution_count": 21,
     "metadata": {},
     "output_type": "execute_result"
    }
   ],
   "source": [
    "a={'1':'rohan','2':'mini'}\n",
    "dictwork=dict_parsing(a)\n",
    "dictwork.insertion('3','julie')"
   ]
  },
  {
   "cell_type": "code",
   "execution_count": 23,
   "metadata": {},
   "outputs": [],
   "source": [
    "# oops concept \n",
    "class xyz:\n",
    "    def __init__(self,a,b,c):\n",
    "        self.a=a\n",
    "        self.b=b \n",
    "        self.c=c \n",
    "    def test(self):\n",
    "        print(\"this is first test method\")\n",
    "        \n",
    "    def test2(self):\n",
    "        print(\"this is first test2 method\")\n",
    "#inheritance\n",
    "class xyz1(xyz):\n",
    "    pass\n",
    "    "
   ]
  },
  {
   "cell_type": "code",
   "execution_count": 29,
   "metadata": {},
   "outputs": [
    {
     "name": "stdout",
     "output_type": "stream",
     "text": [
      "this is first test method\n"
     ]
    }
   ],
   "source": [
    "a=xyz(1,2,3)\n",
    "b=xyz1(1,2,3)\n",
    "b.test()"
   ]
  },
  {
   "cell_type": "code",
   "execution_count": 32,
   "metadata": {},
   "outputs": [
    {
     "data": {
      "text/plain": [
       "4"
      ]
     },
     "execution_count": 32,
     "metadata": {},
     "output_type": "execute_result"
    }
   ],
   "source": [
    "#encapsulate\n",
    "#protected variables can be used inside a class & subclass but not outside the class\n",
    "#private ony within the class\n",
    "class test:\n",
    "    def __init__(self):\n",
    "        self._a=4 #protected\n",
    "class test1(test):\n",
    "    def __init__(self):\n",
    "        self._a=7\n",
    "u=test()\n",
    "u._a"
   ]
  },
  {
   "cell_type": "code",
   "execution_count": 48,
   "metadata": {},
   "outputs": [],
   "source": [
    "class test:\n",
    "    def __init__(self,a,b,c):\n",
    "        self._a=a #protected\n",
    "        self.__b=b #private\n",
    "        self.c=c\n",
    "class test1(test):\n",
    "        pass\n",
    "v=test(4,5,6)"
   ]
  },
  {
   "cell_type": "code",
   "execution_count": 42,
   "metadata": {},
   "outputs": [
    {
     "data": {
      "text/plain": [
       "4"
      ]
     },
     "execution_count": 42,
     "metadata": {},
     "output_type": "execute_result"
    }
   ],
   "source": [
    "v._a"
   ]
  },
  {
   "cell_type": "code",
   "execution_count": 44,
   "metadata": {},
   "outputs": [
    {
     "data": {
      "text/plain": [
       "5"
      ]
     },
     "execution_count": 44,
     "metadata": {},
     "output_type": "execute_result"
    }
   ],
   "source": [
    "v._test__b"
   ]
  },
  {
   "cell_type": "code",
   "execution_count": 49,
   "metadata": {},
   "outputs": [],
   "source": [
    "u=test1(3,4,7)"
   ]
  },
  {
   "cell_type": "code",
   "execution_count": 57,
   "metadata": {},
   "outputs": [
    {
     "data": {
      "text/plain": [
       "4"
      ]
     },
     "execution_count": 57,
     "metadata": {},
     "output_type": "execute_result"
    }
   ],
   "source": [
    "u._test__b #acessing private variable"
   ]
  },
  {
   "cell_type": "code",
   "execution_count": 59,
   "metadata": {},
   "outputs": [],
   "source": [
    "class bonuscalculator:\n",
    "    def __init__(self,empid,empidrating):\n",
    "        self.empid=empid\n",
    "        self.empidrating=empidrating\n",
    "        self.__bonusA='70%'\n",
    "        self.__bonusB='60%'\n",
    "        self.__bonusC='40%'\n",
    "    \n",
    "    def bonuscalculator(self):\n",
    "        if self.empidrating == 'A':\n",
    "            bonus=self.__bonusA\n",
    "            return bonus\n",
    "        elif self.empidrating == 'B':\n",
    "            bonus=self.__bonusB\n",
    "            return bonus \n",
    "        else:\n",
    "            bonus=self.__bonusC\n",
    "            return bonus\n",
    "            \n",
    "            \n",
    "        "
   ]
  },
  {
   "cell_type": "code",
   "execution_count": 62,
   "metadata": {},
   "outputs": [],
   "source": [
    "emp1=bonuscalculator(101,'A')\n",
    "emp2=bonuscalculator(102,'B')\n",
    "emp3=bonuscalculator(103,'c')"
   ]
  },
  {
   "cell_type": "code",
   "execution_count": 64,
   "metadata": {},
   "outputs": [
    {
     "data": {
      "text/plain": [
       "'70%'"
      ]
     },
     "execution_count": 64,
     "metadata": {},
     "output_type": "execute_result"
    }
   ],
   "source": [
    "emp1.bonuscalculator()"
   ]
  },
  {
   "cell_type": "code",
   "execution_count": 65,
   "metadata": {},
   "outputs": [],
   "source": [
    "emp1._bonuscalculator__bonusB='90'"
   ]
  },
  {
   "cell_type": "code",
   "execution_count": 66,
   "metadata": {},
   "outputs": [
    {
     "data": {
      "text/plain": [
       "'70%'"
      ]
     },
     "execution_count": 66,
     "metadata": {},
     "output_type": "execute_result"
    }
   ],
   "source": [
    "emp1.bonuscalculator()"
   ]
  },
  {
   "cell_type": "code",
   "execution_count": null,
   "metadata": {},
   "outputs": [],
   "source": []
  }
 ],
 "metadata": {
  "kernelspec": {
   "display_name": "google",
   "language": "python",
   "name": "python3"
  },
  "language_info": {
   "codemirror_mode": {
    "name": "ipython",
    "version": 3
   },
   "file_extension": ".py",
   "mimetype": "text/x-python",
   "name": "python",
   "nbconvert_exporter": "python",
   "pygments_lexer": "ipython3",
   "version": "3.10.13"
  }
 },
 "nbformat": 4,
 "nbformat_minor": 2
}
