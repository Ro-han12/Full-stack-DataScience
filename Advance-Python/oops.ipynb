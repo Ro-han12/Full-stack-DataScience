{
 "cells": [
  {
   "cell_type": "code",
   "execution_count": null,
   "metadata": {},
   "outputs": [],
   "source": [
    "#oops helps in coding in a modular way\n",
    "#self is not a keyword its a pointer\n",
    "class car:\n",
    "    def __init__(self,body_type,engine,fuel_type):\n",
    "        self.body_type=body_type\n",
    "        self.engine=engine\n",
    "        self.fuel_type=fuel_type\n",
    "    def test(self):\n",
    "        print(\"this is my first method in car class\")\n",
    "        "
   ]
  }
 ],
 "metadata": {
  "kernelspec": {
   "display_name": "google",
   "language": "python",
   "name": "python3"
  },
  "language_info": {
   "name": "python",
   "version": "3.10.13"
  }
 },
 "nbformat": 4,
 "nbformat_minor": 2
}
