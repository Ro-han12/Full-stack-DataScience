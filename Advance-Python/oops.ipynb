{
 "cells": [
  {
   "cell_type": "code",
   "execution_count": 1,
   "metadata": {},
   "outputs": [],
   "source": [
    "#oops helps in coding in a modular way\n",
    "#self is not a keyword its a pointer\n",
    "class car:\n",
    "    def __init__(self,body_type,engine,fuel_type):\n",
    "        self.body_type=body_type\n",
    "        self.engine=engine\n",
    "        self.fuel_type=fuel_type\n",
    "    def test(self):\n",
    "        print(\"this is my first method in car class\")\n",
    "        "
   ]
  },
  {
   "cell_type": "code",
   "execution_count": 2,
   "metadata": {},
   "outputs": [],
   "source": [
    "class list_parser:\n",
    "    def __init__(self,l):\n",
    "        self.l=l\n",
    "    def parser(self):\n",
    "        if type(self.l) == list:\n",
    "            for i in self.l:\n",
    "                print(i)\n",
    "    def reverse_list(self):\n",
    "        if type(self.l) == list:\n",
    "            return self.l[::-1]\n",
    "    "
   ]
  },
  {
   "cell_type": "code",
   "execution_count": 3,
   "metadata": {},
   "outputs": [
    {
     "name": "stdout",
     "output_type": "stream",
     "text": [
      "2\n",
      "3\n",
      "45\n",
      "6\n",
      "8\n",
      "None\n",
      "[8, 6, 45, 3, 2]\n"
     ]
    }
   ],
   "source": [
    "c=list_parser([2,3,45,6,8])\n",
    "parse=c.parser()\n",
    "print(parse)\n",
    "rev=c.reverse_list()\n",
    "print(rev)\n"
   ]
  },
  {
   "cell_type": "code",
   "execution_count": 13,
   "metadata": {},
   "outputs": [],
   "source": [
    "class dict_parsing():\n",
    "    def __init__(self, a=None):\n",
    "        if a is None:\n",
    "            a = eval(input(\"Please enter a dictionary: \"))\n",
    "        if not isinstance(a, dict):\n",
    "            raise Exception(\"Not a dictionary\")\n",
    "        self.a = a\n",
    "        print(\"Initialization successful\")\n",
    "        \n",
    "    def getkeys(self):\n",
    "        if self.notdict():\n",
    "            return list(self.a.keys())\n",
    "    def notdict():\n",
    "        if type(self.a) != dict:\n",
    "            raise Exception(self.a,'NOT A DICTIONARY')\n",
    "        return 1 \n",
    "    def userinput(self):\n",
    "        self.a=eval(input())\n",
    "        print(self.a,type(self.a))\n",
    "        print(self.getkeys)\n",
    "        print(self.getvalues())\n",
    "    def insertion(self,k,v):\n",
    "        self.a[k]=v \n",
    "        return self.a\n"
   ]
  },
  {
   "cell_type": "code",
   "execution_count": 21,
   "metadata": {},
   "outputs": [
    {
     "name": "stdout",
     "output_type": "stream",
     "text": [
      "Initialization successful\n"
     ]
    },
    {
     "data": {
      "text/plain": [
       "{'1': 'rohan', '2': 'mini', '3': 'julie'}"
      ]
     },
     "execution_count": 21,
     "metadata": {},
     "output_type": "execute_result"
    }
   ],
   "source": [
    "a={'1':'rohan','2':'mini'}\n",
    "dictwork=dict_parsing(a)\n",
    "dictwork.insertion('3','julie')"
   ]
  },
  {
   "cell_type": "code",
   "execution_count": null,
   "metadata": {},
   "outputs": [],
   "source": []
  }
 ],
 "metadata": {
  "kernelspec": {
   "display_name": "google",
   "language": "python",
   "name": "python3"
  },
  "language_info": {
   "codemirror_mode": {
    "name": "ipython",
    "version": 3
   },
   "file_extension": ".py",
   "mimetype": "text/x-python",
   "name": "python",
   "nbconvert_exporter": "python",
   "pygments_lexer": "ipython3",
   "version": "3.10.13"
  }
 },
 "nbformat": 4,
 "nbformat_minor": 2
}
