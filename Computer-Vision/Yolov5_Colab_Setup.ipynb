{
  "nbformat": 4,
  "nbformat_minor": 0,
  "metadata": {
    "colab": {
      "provenance": []
    },
    "kernelspec": {
      "name": "python3",
      "display_name": "Python 3"
    },
    "accelerator": "GPU"
  },
  "cells": [
    {
      "cell_type": "markdown",
      "metadata": {
        "id": "bPqkOqKvaerU"
      },
      "source": [
        "# Inferencing with YoloV5"
      ]
    },
    {
      "cell_type": "markdown",
      "metadata": {
        "id": "XXu9rSyea-pI"
      },
      "source": [
        "## Cloning Github Repository"
      ]
    },
    {
      "cell_type": "code",
      "metadata": {
        "id": "9OrEi7NiAqUr",
        "colab": {
          "base_uri": "https://localhost:8080/"
        },
        "outputId": "4de15ab3-383a-4832-96aa-c3019581ac27"
      },
      "source": [
        "!git clone https://github.com/ultralytics/yolov5\n",
        "%cd yolov5"
      ],
      "execution_count": null,
      "outputs": [
        {
          "output_type": "stream",
          "name": "stdout",
          "text": [
            "Cloning into 'yolov5'...\n",
            "remote: Enumerating objects: 9758, done.\u001b[K\n",
            "remote: Counting objects: 100% (16/16), done.\u001b[K\n",
            "remote: Compressing objects: 100% (15/15), done.\u001b[K\n",
            "remote: Total 9758 (delta 6), reused 5 (delta 1), pack-reused 9742\u001b[K\n",
            "Receiving objects: 100% (9758/9758), 10.10 MiB | 13.93 MiB/s, done.\n",
            "Resolving deltas: 100% (6773/6773), done.\n",
            "/content/yolov5\n"
          ]
        }
      ]
    },
    {
      "cell_type": "markdown",
      "metadata": {
        "id": "CI-bAdLUas5X"
      },
      "source": [
        "## # Installling dependencies"
      ]
    },
    {
      "cell_type": "code",
      "metadata": {
        "id": "VZFLotARal5u",
        "colab": {
          "base_uri": "https://localhost:8080/"
        },
        "outputId": "25aa65d1-80e5-4efb-ab8a-093c64c66074"
      },
      "source": [
        "!pip install -r requirements.txt\n"
      ],
      "execution_count": null,
      "outputs": [
        {
          "output_type": "stream",
          "name": "stdout",
          "text": [
            "Requirement already satisfied: matplotlib>=3.2.2 in /usr/local/lib/python3.7/dist-packages (from -r requirements.txt (line 4)) (3.2.2)\n",
            "Requirement already satisfied: numpy>=1.18.5 in /usr/local/lib/python3.7/dist-packages (from -r requirements.txt (line 5)) (1.19.5)\n",
            "Requirement already satisfied: opencv-python>=4.1.2 in /usr/local/lib/python3.7/dist-packages (from -r requirements.txt (line 6)) (4.1.2.30)\n",
            "Requirement already satisfied: Pillow>=7.1.2 in /usr/local/lib/python3.7/dist-packages (from -r requirements.txt (line 7)) (7.1.2)\n",
            "Collecting PyYAML>=5.3.1\n",
            "  Downloading PyYAML-6.0-cp37-cp37m-manylinux_2_5_x86_64.manylinux1_x86_64.manylinux_2_12_x86_64.manylinux2010_x86_64.whl (596 kB)\n",
            "\u001b[K     |████████████████████████████████| 596 kB 12.6 MB/s \n",
            "\u001b[?25hRequirement already satisfied: requests>=2.23.0 in /usr/local/lib/python3.7/dist-packages (from -r requirements.txt (line 9)) (2.23.0)\n",
            "Requirement already satisfied: scipy>=1.4.1 in /usr/local/lib/python3.7/dist-packages (from -r requirements.txt (line 10)) (1.4.1)\n",
            "Requirement already satisfied: torch>=1.7.0 in /usr/local/lib/python3.7/dist-packages (from -r requirements.txt (line 11)) (1.9.0+cu111)\n",
            "Requirement already satisfied: torchvision>=0.8.1 in /usr/local/lib/python3.7/dist-packages (from -r requirements.txt (line 12)) (0.10.0+cu111)\n",
            "Requirement already satisfied: tqdm>=4.41.0 in /usr/local/lib/python3.7/dist-packages (from -r requirements.txt (line 13)) (4.62.3)\n",
            "Requirement already satisfied: tensorboard>=2.4.1 in /usr/local/lib/python3.7/dist-packages (from -r requirements.txt (line 16)) (2.6.0)\n",
            "Requirement already satisfied: pandas>=1.1.4 in /usr/local/lib/python3.7/dist-packages (from -r requirements.txt (line 20)) (1.1.5)\n",
            "Requirement already satisfied: seaborn>=0.11.0 in /usr/local/lib/python3.7/dist-packages (from -r requirements.txt (line 21)) (0.11.2)\n",
            "Collecting thop\n",
            "  Downloading thop-0.0.31.post2005241907-py3-none-any.whl (8.7 kB)\n",
            "Requirement already satisfied: kiwisolver>=1.0.1 in /usr/local/lib/python3.7/dist-packages (from matplotlib>=3.2.2->-r requirements.txt (line 4)) (1.3.2)\n",
            "Requirement already satisfied: python-dateutil>=2.1 in /usr/local/lib/python3.7/dist-packages (from matplotlib>=3.2.2->-r requirements.txt (line 4)) (2.8.2)\n",
            "Requirement already satisfied: pyparsing!=2.0.4,!=2.1.2,!=2.1.6,>=2.0.1 in /usr/local/lib/python3.7/dist-packages (from matplotlib>=3.2.2->-r requirements.txt (line 4)) (2.4.7)\n",
            "Requirement already satisfied: cycler>=0.10 in /usr/local/lib/python3.7/dist-packages (from matplotlib>=3.2.2->-r requirements.txt (line 4)) (0.10.0)\n",
            "Requirement already satisfied: idna<3,>=2.5 in /usr/local/lib/python3.7/dist-packages (from requests>=2.23.0->-r requirements.txt (line 9)) (2.10)\n",
            "Requirement already satisfied: certifi>=2017.4.17 in /usr/local/lib/python3.7/dist-packages (from requests>=2.23.0->-r requirements.txt (line 9)) (2021.5.30)\n",
            "Requirement already satisfied: chardet<4,>=3.0.2 in /usr/local/lib/python3.7/dist-packages (from requests>=2.23.0->-r requirements.txt (line 9)) (3.0.4)\n",
            "Requirement already satisfied: urllib3!=1.25.0,!=1.25.1,<1.26,>=1.21.1 in /usr/local/lib/python3.7/dist-packages (from requests>=2.23.0->-r requirements.txt (line 9)) (1.24.3)\n",
            "Requirement already satisfied: typing-extensions in /usr/local/lib/python3.7/dist-packages (from torch>=1.7.0->-r requirements.txt (line 11)) (3.7.4.3)\n",
            "Requirement already satisfied: wheel>=0.26 in /usr/local/lib/python3.7/dist-packages (from tensorboard>=2.4.1->-r requirements.txt (line 16)) (0.37.0)\n",
            "Requirement already satisfied: protobuf>=3.6.0 in /usr/local/lib/python3.7/dist-packages (from tensorboard>=2.4.1->-r requirements.txt (line 16)) (3.17.3)\n",
            "Requirement already satisfied: absl-py>=0.4 in /usr/local/lib/python3.7/dist-packages (from tensorboard>=2.4.1->-r requirements.txt (line 16)) (0.12.0)\n",
            "Requirement already satisfied: setuptools>=41.0.0 in /usr/local/lib/python3.7/dist-packages (from tensorboard>=2.4.1->-r requirements.txt (line 16)) (57.4.0)\n",
            "Requirement already satisfied: google-auth-oauthlib<0.5,>=0.4.1 in /usr/local/lib/python3.7/dist-packages (from tensorboard>=2.4.1->-r requirements.txt (line 16)) (0.4.6)\n",
            "Requirement already satisfied: tensorboard-plugin-wit>=1.6.0 in /usr/local/lib/python3.7/dist-packages (from tensorboard>=2.4.1->-r requirements.txt (line 16)) (1.8.0)\n",
            "Requirement already satisfied: markdown>=2.6.8 in /usr/local/lib/python3.7/dist-packages (from tensorboard>=2.4.1->-r requirements.txt (line 16)) (3.3.4)\n",
            "Requirement already satisfied: tensorboard-data-server<0.7.0,>=0.6.0 in /usr/local/lib/python3.7/dist-packages (from tensorboard>=2.4.1->-r requirements.txt (line 16)) (0.6.1)\n",
            "Requirement already satisfied: werkzeug>=0.11.15 in /usr/local/lib/python3.7/dist-packages (from tensorboard>=2.4.1->-r requirements.txt (line 16)) (1.0.1)\n",
            "Requirement already satisfied: grpcio>=1.24.3 in /usr/local/lib/python3.7/dist-packages (from tensorboard>=2.4.1->-r requirements.txt (line 16)) (1.41.0)\n",
            "Requirement already satisfied: google-auth<2,>=1.6.3 in /usr/local/lib/python3.7/dist-packages (from tensorboard>=2.4.1->-r requirements.txt (line 16)) (1.35.0)\n",
            "Requirement already satisfied: pytz>=2017.2 in /usr/local/lib/python3.7/dist-packages (from pandas>=1.1.4->-r requirements.txt (line 20)) (2018.9)\n",
            "Requirement already satisfied: six in /usr/local/lib/python3.7/dist-packages (from absl-py>=0.4->tensorboard>=2.4.1->-r requirements.txt (line 16)) (1.15.0)\n",
            "Requirement already satisfied: cachetools<5.0,>=2.0.0 in /usr/local/lib/python3.7/dist-packages (from google-auth<2,>=1.6.3->tensorboard>=2.4.1->-r requirements.txt (line 16)) (4.2.4)\n",
            "Requirement already satisfied: rsa<5,>=3.1.4 in /usr/local/lib/python3.7/dist-packages (from google-auth<2,>=1.6.3->tensorboard>=2.4.1->-r requirements.txt (line 16)) (4.7.2)\n",
            "Requirement already satisfied: pyasn1-modules>=0.2.1 in /usr/local/lib/python3.7/dist-packages (from google-auth<2,>=1.6.3->tensorboard>=2.4.1->-r requirements.txt (line 16)) (0.2.8)\n",
            "Requirement already satisfied: requests-oauthlib>=0.7.0 in /usr/local/lib/python3.7/dist-packages (from google-auth-oauthlib<0.5,>=0.4.1->tensorboard>=2.4.1->-r requirements.txt (line 16)) (1.3.0)\n",
            "Requirement already satisfied: importlib-metadata in /usr/local/lib/python3.7/dist-packages (from markdown>=2.6.8->tensorboard>=2.4.1->-r requirements.txt (line 16)) (4.8.1)\n",
            "Requirement already satisfied: pyasn1<0.5.0,>=0.4.6 in /usr/local/lib/python3.7/dist-packages (from pyasn1-modules>=0.2.1->google-auth<2,>=1.6.3->tensorboard>=2.4.1->-r requirements.txt (line 16)) (0.4.8)\n",
            "Requirement already satisfied: oauthlib>=3.0.0 in /usr/local/lib/python3.7/dist-packages (from requests-oauthlib>=0.7.0->google-auth-oauthlib<0.5,>=0.4.1->tensorboard>=2.4.1->-r requirements.txt (line 16)) (3.1.1)\n",
            "Requirement already satisfied: zipp>=0.5 in /usr/local/lib/python3.7/dist-packages (from importlib-metadata->markdown>=2.6.8->tensorboard>=2.4.1->-r requirements.txt (line 16)) (3.6.0)\n",
            "Installing collected packages: thop, PyYAML\n",
            "  Attempting uninstall: PyYAML\n",
            "    Found existing installation: PyYAML 3.13\n",
            "    Uninstalling PyYAML-3.13:\n",
            "      Successfully uninstalled PyYAML-3.13\n",
            "Successfully installed PyYAML-6.0 thop-0.0.31.post2005241907\n"
          ]
        }
      ]
    },
    {
      "cell_type": "markdown",
      "metadata": {
        "id": "9c66DY_OJ9Ih"
      },
      "source": [
        "## Dependency Checks"
      ]
    },
    {
      "cell_type": "code",
      "metadata": {
        "colab": {
          "base_uri": "https://localhost:8080/"
        },
        "id": "zf-zXrBqJK4S",
        "outputId": "81928c3a-daf9-4452-b5e6-5dc333f638c9"
      },
      "source": [
        "import torch\n",
        "from IPython.display import Image, clear_output  # to display images\n",
        "clear_output()\n",
        "print(f\"Setup complete. Using torch {torch.__version__} ({torch.cuda.get_device_properties(0).name if torch.cuda.is_available() else 'CPU'})\")"
      ],
      "execution_count": null,
      "outputs": [
        {
          "output_type": "stream",
          "name": "stdout",
          "text": [
            "Setup complete. Using torch 1.9.0+cu111 (Tesla P100-PCIE-16GB)\n"
          ]
        }
      ]
    },
    {
      "cell_type": "markdown",
      "metadata": {
        "id": "Kf4ZXifzbVXw"
      },
      "source": [
        "## Creating a folder for test images"
      ]
    },
    {
      "cell_type": "code",
      "metadata": {
        "id": "bp233bc2Csvx",
        "colab": {
          "base_uri": "https://localhost:8080/"
        },
        "outputId": "09bd0ddd-4174-4c29-edd7-ab2293ceae07"
      },
      "source": [
        "%cd /content/\n",
        "!unzip wallys.zip\n"
      ],
      "execution_count": null,
      "outputs": [
        {
          "output_type": "stream",
          "name": "stdout",
          "text": [
            "/content\n",
            "Archive:  wallys.zip\n",
            "  inflating: wallys/pexels-daniel-xavier-1102341 (1).jpg  \n",
            "  inflating: wallys/pexels-daniel-xavier-1102341.jpg  \n",
            "  inflating: wallys/pexels-daniel-xavier-1102342 (1).jpg  \n",
            "  inflating: wallys/pexels-daniel-xavier-1102342.jpg  \n",
            "  inflating: wallys/pexels-daniel-xavier-1102343 (1).jpg  \n",
            "  inflating: wallys/pexels-daniel-xavier-1102343.jpg  \n",
            "  inflating: wallys/pexels-daniel-xavier-1239287 (1).jpg  \n",
            "  inflating: wallys/pexels-daniel-xavier-1239287.jpg  \n",
            "  inflating: wallys/pexels-daniel-xavier-1239288 (1).jpg  \n",
            "  inflating: wallys/pexels-daniel-xavier-1239288.jpg  \n",
            "  inflating: wallys/pexels-daniel-xavier-1239291 (1).jpg  \n",
            "  inflating: wallys/pexels-daniel-xavier-1239291.jpg  \n",
            "  inflating: wallys/pexels-daniel-xavier-1275309 (1).jpg  \n",
            "  inflating: wallys/pexels-daniel-xavier-1275309.jpg  \n",
            "  inflating: wallys/pexels-daniel-xavier-1275310 (1).jpg  \n",
            "  inflating: wallys/pexels-daniel-xavier-1275310.jpg  \n",
            "  inflating: wallys/pexels-daniel-xavier-908602.jpg  \n"
          ]
        }
      ]
    },
    {
      "cell_type": "markdown",
      "metadata": {
        "id": "LLxKYNOMbb6R"
      },
      "source": [
        "## Inferencing with YoloV5"
      ]
    },
    {
      "cell_type": "code",
      "metadata": {
        "id": "1KJPT6ytA1Da",
        "colab": {
          "base_uri": "https://localhost:8080/"
        },
        "outputId": "a6ec2c8b-6cec-4a01-e2de-3d3ad6761120"
      },
      "source": [
        "%cd /content/yolov5/\n",
        "!python detect.py --img 416 --conf 0.4 --source /content/wallys"
      ],
      "execution_count": null,
      "outputs": [
        {
          "output_type": "stream",
          "name": "stdout",
          "text": [
            "/content/yolov5\n",
            "\u001b[34m\u001b[1mdetect: \u001b[0mweights=yolov5s.pt, source=/content/wallys, imgsz=[416, 416], conf_thres=0.4, iou_thres=0.45, max_det=1000, device=, view_img=False, save_txt=False, save_conf=False, save_crop=False, nosave=False, classes=None, agnostic_nms=False, augment=False, visualize=False, update=False, project=runs/detect, name=exp, exist_ok=False, line_thickness=3, hide_labels=False, hide_conf=False, half=False, dnn=False\n",
            "YOLOv5 🚀 v6.0-35-ga4fece8 torch 1.9.0+cu111 CUDA:0 (Tesla P100-PCIE-16GB, 16280.875MB)\n",
            "\n",
            "Fusing layers... \n",
            "Model Summary: 213 layers, 7225885 parameters, 0 gradients\n",
            "image 1/17 /content/wallys/pexels-daniel-xavier-1102341 (1).jpg: 288x416 1 person, Done. (0.017s)\n",
            "image 2/17 /content/wallys/pexels-daniel-xavier-1102341.jpg: 288x416 1 person, Done. (0.011s)\n",
            "image 3/17 /content/wallys/pexels-daniel-xavier-1102342 (1).jpg: 288x416 1 person, Done. (0.011s)\n",
            "image 4/17 /content/wallys/pexels-daniel-xavier-1102342.jpg: 288x416 1 person, Done. (0.011s)\n",
            "image 5/17 /content/wallys/pexels-daniel-xavier-1102343 (1).jpg: 288x416 1 person, Done. (0.012s)\n",
            "image 6/17 /content/wallys/pexels-daniel-xavier-1102343.jpg: 288x416 1 person, Done. (0.011s)\n",
            "image 7/17 /content/wallys/pexels-daniel-xavier-1239287 (1).jpg: 416x288 1 person, Done. (0.015s)\n",
            "image 8/17 /content/wallys/pexels-daniel-xavier-1239287.jpg: 416x288 1 person, Done. (0.013s)\n",
            "image 9/17 /content/wallys/pexels-daniel-xavier-1239288 (1).jpg: 416x288 1 person, 1 tie, Done. (0.011s)\n",
            "image 10/17 /content/wallys/pexels-daniel-xavier-1239288.jpg: 416x288 1 person, Done. (0.012s)\n",
            "image 11/17 /content/wallys/pexels-daniel-xavier-1239291 (1).jpg: 288x416 1 person, 3 cars, Done. (0.014s)\n",
            "image 12/17 /content/wallys/pexels-daniel-xavier-1239291.jpg: 288x416 1 person, 3 cars, Done. (0.013s)\n",
            "image 13/17 /content/wallys/pexels-daniel-xavier-1275309 (1).jpg: 288x416 1 person, Done. (0.012s)\n",
            "image 14/17 /content/wallys/pexels-daniel-xavier-1275309.jpg: 288x416 1 person, Done. (0.013s)\n",
            "image 15/17 /content/wallys/pexels-daniel-xavier-1275310 (1).jpg: 288x416 1 person, Done. (0.013s)\n",
            "image 16/17 /content/wallys/pexels-daniel-xavier-1275310.jpg: 288x416 1 person, Done. (0.011s)\n",
            "image 17/17 /content/wallys/pexels-daniel-xavier-908602.jpg: 288x416 2 persons, Done. (0.011s)\n",
            "Speed: 0.5ms pre-process, 12.4ms inference, 2.2ms NMS per image at shape (1, 3, 416, 416)\n",
            "Results saved to \u001b[1mruns/detect/exp2\u001b[0m\n"
          ]
        }
      ]
    },
    {
      "cell_type": "code",
      "metadata": {
        "id": "NqFClJRYA0_M"
      },
      "source": [],
      "execution_count": null,
      "outputs": []
    },
    {
      "cell_type": "code",
      "metadata": {
        "id": "yxXbpwosA07g"
      },
      "source": [],
      "execution_count": null,
      "outputs": []
    }
  ]
}